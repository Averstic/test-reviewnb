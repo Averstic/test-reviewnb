{
 "cells": [
  {
   "cell_type": "raw",
   "metadata": {},
   "source": [
    "---\n",
    "title: \"Diamond sizes\"\n",
    "date: 2016-08-25\n",
    "output: html_document\n",
    "---"
   ]
  },
  {
   "cell_type": "code",
   "execution_count": null,
   "metadata": {
    "name": "setup",
    "tags": [
     "remove_cell"
    ]
   },
   "outputs": [],
   "source": [
    "library(ggplot2)\n",
    "library(dplyr)\n",
    "\n",
    "smaller <- diamonds %>% \n",
    "\t  filter(carat <= 2.5)\n",
    "  ```\n",
    "\n",
    "We have data about `r nrow(diamonds)` diamonds. Only \n",
    "`r nrow(diamonds) - nrow(smaller)` are larger than\n",
    "2.5 carats. The distribution of the remainder is shown\n",
    "below:\n",
    "\n",
    "```{r, echo = FALSE}\n",
    "smaller %>% \n",
    "\t  ggplot(aes(carat)) + \n",
    "\t    geom_freqpoly(binwidth = 0.01)\n",
    "    ```"
   ]
  }
 ],
 "metadata": {
  "jupytext": {
   "cell_metadata_filter": "name,tags,-all",
   "main_language": "R",
   "notebook_metadata_filter": "-all"
  }
 },
 "nbformat": 4,
 "nbformat_minor": 4
}
